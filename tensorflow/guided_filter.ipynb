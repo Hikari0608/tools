{
 "cells": [
  {
   "cell_type": "code",
   "execution_count": null,
   "metadata": {},
   "outputs": [],
   "source": [
    "import tensorflow as tf\n",
    "import numpy as np\n"
   ]
  },
  {
   "cell_type": "code",
   "execution_count": null,
   "metadata": {},
   "outputs": [],
   "source": [
    "def guided_filter(data, guide, radius, eps):\n",
    "\n",
    "    if data.dtype == tf.uint8:\n",
    "        data = tf.cast(data/255,tf.float32)\n",
    "\n",
    "    while len(data.shape) < 4:\n",
    "        data = tf.expand_dims(data,axis=0)\n",
    "\n",
    "    # 获取数据的形状信息\n",
    "    batch, height, width, channel = tf.shape(data)[0], tf.shape(data)[1], tf.shape(data)[2], tf.shape(data)[3]\n",
    "\n",
    "    # 对数据和引导图像进行平均值滤波\n",
    "    mean_data = tf.nn.avg_pool(data, ksize=[1, radius, radius, 1], strides=[1, 1, 1, 1], padding='SAME')\n",
    "    mean_guide = tf.nn.avg_pool(guide, ksize=[1, radius, radius, 1], strides=[1, 1, 1, 1], padding='SAME')\n",
    "\n",
    "    # 计算方差和协方差\n",
    "    mean_data_guide = tf.nn.avg_pool(data * guide, ksize=[1, radius, radius, 1], strides=[1, 1, 1, 1], padding='SAME')\n",
    "    cov_data_guide = mean_data_guide - mean_data * mean_guide\n",
    "\n",
    "    mean_data_sq = mean_data ** 2\n",
    "    mean_guide_sq = mean_guide ** 2\n",
    "\n",
    "    # 计算引导图像的方差\n",
    "    var_guide = tf.nn.avg_pool(guide ** 2, ksize=[1, radius, radius, 1], strides=[1, 1, 1, 1], padding='SAME') - mean_guide_sq\n",
    "\n",
    "    # 计算a和b的系数\n",
    "    a = cov_data_guide / (var_guide + eps)\n",
    "    b = mean_data - a * mean_guide\n",
    "\n",
    "    # 对a和b进行平均值滤波\n",
    "    mean_a = tf.nn.avg_pool(a, ksize=[1, radius, radius, 1], strides=[1, 1, 1, 1], padding='SAME')\n",
    "    mean_b = tf.nn.avg_pool(b, ksize=[1, radius, radius, 1], strides=[1, 1, 1, 1], padding='SAME')\n",
    "\n",
    "    # 计算输出图像\n",
    "    output = mean_a * guide + mean_b\n",
    "\n",
    "    return output"
   ]
  }
 ],
 "metadata": {
  "kernelspec": {
   "display_name": "hikari",
   "language": "python",
   "name": "python3"
  },
  "language_info": {
   "name": "python",
   "version": "3.10.8"
  },
  "orig_nbformat": 4,
  "vscode": {
   "interpreter": {
    "hash": "5e9683d03b1bced758763a0024cb0dc525899e920c4ff2f8a529bc982ee7444b"
   }
  }
 },
 "nbformat": 4,
 "nbformat_minor": 2
}
