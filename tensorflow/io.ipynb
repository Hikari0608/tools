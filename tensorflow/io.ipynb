{
 "cells": [
  {
   "cell_type": "code",
   "execution_count": null,
   "metadata": {},
   "outputs": [],
   "source": [
    "import os\n",
    "import tensorflow as tf"
   ]
  },
  {
   "cell_type": "code",
   "execution_count": null,
   "metadata": {},
   "outputs": [],
   "source": [
    "def imread(pth,name):\n",
    "    ret = tf.io.read_file(os.path.join(pth,name))\n",
    "    ret = tf.io.decode_png(ret)\n",
    "    return ret\n",
    "\n",
    "def imsave(img,name,pth):\n",
    "    img = tf.io.encode_png(img)\n",
    "    tf.io.write_file(os.path.join(pth,name),img)"
   ]
  },
  {
   "cell_type": "code",
   "execution_count": null,
   "metadata": {},
   "outputs": [],
   "source": [
    "from matplotlib import pyplot as plt\n",
    "import numpy as np"
   ]
  },
  {
   "cell_type": "code",
   "execution_count": null,
   "metadata": {},
   "outputs": [],
   "source": [
    "def imshow(x, title=None, cbar=False, figsize=None):\n",
    "    plt.figure(figsize=figsize)\n",
    "    plt.imshow(np.squeeze(x), interpolation='nearest', cmap='gray')\n",
    "    print(title)\n",
    "    if title:\n",
    "        plt.title(title)\n",
    "    if cbar:\n",
    "        plt.colorbar()\n",
    "    plt.show()"
   ]
  }
 ],
 "metadata": {
  "kernelspec": {
   "display_name": "base",
   "language": "python",
   "name": "python3"
  },
  "language_info": {
   "name": "python",
   "version": "3.9.13"
  },
  "orig_nbformat": 4,
  "vscode": {
   "interpreter": {
    "hash": "0a9f78bbd9945577273209704ae5cfeda6441623d00fcb3735ad464d32c6f595"
   }
  }
 },
 "nbformat": 4,
 "nbformat_minor": 2
}
