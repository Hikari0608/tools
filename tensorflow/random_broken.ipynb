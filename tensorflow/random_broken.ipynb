{
 "cells": [
  {
   "cell_type": "code",
   "execution_count": null,
   "metadata": {},
   "outputs": [],
   "source": [
    "import tensorflow as tf\n",
    "import numpy as np"
   ]
  },
  {
   "attachments": {},
   "cell_type": "markdown",
   "metadata": {},
   "source": [
    "像素块随机打乱策略"
   ]
  },
  {
   "cell_type": "code",
   "execution_count": null,
   "metadata": {},
   "outputs": [],
   "source": [
    "def random_broken(inputs, pool_size):\n",
    "    [batch_size, height, width, channels] = inputs.shape\n",
    "\n",
    "    f1 = tf.split(inputs,num_or_size_splits=pool_size,axis=1)\n",
    "    f2 = tf.split(np.array(f1),num_or_size_splits=pool_size,axis=3)\n",
    "    \n",
    "    temp = tf.reshape(np.array(f2),shape=[pool_size,pool_size,batch_size,(height//pool_size)*(width//pool_size),channels])\n",
    "    temp = tf.transpose(temp,[3,1,2,0,4])\n",
    "    temp = tf.random.shuffle(temp)\n",
    "    temp = tf.transpose(temp,[3,1,2,0,4])\n",
    "    temp = tf.reshape(temp,shape=[pool_size,pool_size,batch_size,height//pool_size,width//pool_size,channels])\n",
    "    \n",
    "    cat = tf.split(temp,num_or_size_splits=pool_size,axis=0)\n",
    "    cat = tf.concat(cat,axis=4)\n",
    "\n",
    "    cat = tf.split(cat,num_or_size_splits=pool_size,axis=1)\n",
    "    cat = tf.concat(cat,axis=3)\n",
    "\n",
    "    out = tf.squeeze(cat)\n",
    "    out = tf.expand_dims(out,axis=0)\n",
    "    return out"
   ]
  }
 ],
 "metadata": {
  "kernelspec": {
   "display_name": "base",
   "language": "python",
   "name": "python3"
  },
  "language_info": {
   "name": "python",
   "version": "3.9.13"
  },
  "orig_nbformat": 4,
  "vscode": {
   "interpreter": {
    "hash": "0a9f78bbd9945577273209704ae5cfeda6441623d00fcb3735ad464d32c6f595"
   }
  }
 },
 "nbformat": 4,
 "nbformat_minor": 2
}
