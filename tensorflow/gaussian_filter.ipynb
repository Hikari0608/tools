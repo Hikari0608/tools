{
 "cells": [
  {
   "cell_type": "code",
   "execution_count": null,
   "metadata": {},
   "outputs": [],
   "source": [
    "import tensorflow as tf\n",
    "import numpy as np"
   ]
  },
  {
   "cell_type": "code",
   "execution_count": null,
   "metadata": {},
   "outputs": [],
   "source": [
    "def gaussian_filter(data, sigma):\n",
    "    \n",
    "    if data.dtype == tf.uint8:\n",
    "        data = tf.cast(data/255,tf.float32)\n",
    "\n",
    "    while len(data.shape) < 4:\n",
    "        data = tf.expand_dims(data,axis=0)\n",
    "\n",
    "    ksize = int(2 * round(2 * sigma) + 1)\n",
    "    x = tf.range(-ksize // 2 + 1, ksize // 2 + 1, dtype=tf.float32)\n",
    "    g = tf.exp(-tf.pow(x, 2) / (2 * tf.pow(sigma, 2)))\n",
    "    g = g / tf.reduce_sum(g)\n",
    "    g_filter = tf.reshape(g, [ksize, 1, 1, 1]) * tf.reshape(g, [1, ksize, 1, 1])\n",
    "\n",
    "    # 扩充维度，使其可以和输入数据进行卷积\n",
    "    g_filter = tf.tile(g_filter, [1, 1, tf.shape(data)[-1], 1])\n",
    "\n",
    "    # 对每个通道分别进行卷积操作\n",
    "    output = tf.nn.depthwise_conv2d(data, g_filter, strides=[1, 1, 1, 1], padding='SAME')\n",
    "\n",
    "    return output\n"
   ]
  }
 ],
 "metadata": {
  "kernelspec": {
   "display_name": "hikari",
   "language": "python",
   "name": "python3"
  },
  "language_info": {
   "name": "python",
   "version": "3.10.8"
  },
  "orig_nbformat": 4,
  "vscode": {
   "interpreter": {
    "hash": "5e9683d03b1bced758763a0024cb0dc525899e920c4ff2f8a529bc982ee7444b"
   }
  }
 },
 "nbformat": 4,
 "nbformat_minor": 2
}
