{
 "cells": [
  {
   "cell_type": "code",
   "execution_count": 1,
   "metadata": {},
   "outputs": [],
   "source": [
    "import logging"
   ]
  },
  {
   "attachments": {},
   "cell_type": "markdown",
   "metadata": {},
   "source": [
    "日志类"
   ]
  },
  {
   "cell_type": "code",
   "execution_count": 2,
   "metadata": {},
   "outputs": [],
   "source": [
    "class Logger():\n",
    "    level_set = {\n",
    "        'debug': logging.DEBUG,\n",
    "        'info': logging.INFO,\n",
    "        'warn': logging.WARN,\n",
    "        'error': logging.ERROR,\n",
    "        'root': logging.CRITICAL\n",
    "    }\n",
    "\n",
    "    def __init__(self,filename,level = \"debug\",name = None):\n",
    "        self.logger = logging.getLogger(name=name)\n",
    "        self.logger.setLevel(self.level_set.get(level))\n",
    "\n",
    "        self.s = logging.StreamHandler()\n",
    "        self.a = logging.FileHandler(filename=filename,encoding=\"UTF-8\")\n",
    "\n",
    "        self.form = logging.Formatter(fmt=\"[%(asctime)s ->> %(message)s\",datefmt=\"%Y/%m/%d-%X\")\n",
    "        \n",
    "        self.s.setFormatter(self.form)\n",
    "        self.a.setFormatter(self.form)\n",
    "        self.a.set_name(name = filename)\n",
    "        \n",
    "        self.logger.addHandler(self.s)\n",
    "        self.logger.addHandler(self.a)\n",
    "\n",
    "    def setLevel(self,level):\n",
    "        self.logger.setLevel(self.level_set.get(level))\n",
    "\n",
    "    def remove(self):\n",
    "        self.logger.removeHandler(self.b)\n",
    "\n",
    "    def add(self,filename):\n",
    "        self.b = logging.FileHandler(filename=filename,encoding=\"UTF-8\")\n",
    "        self.b.setFormatter(self.form)\n",
    "        self.logger.addHandler(self.b)\n",
    "    \n",
    "    def list(self):\n",
    "        return self.logger.handlers\n",
    "\n",
    "    def has(self):\n",
    "        self.logger.hasHandlers()\n",
    "\n",
    "    def output(self,string):\n",
    "        return self.a.baseFilename+'] <'+string+'>'\n",
    "\n",
    "    def debug(self,inputs):\n",
    "        self.logger.debug(self.output(inputs))\n",
    "    \n",
    "    def info(self,inputs):\n",
    "        self.logger.info(self.output(inputs))\n",
    "\n",
    "    def warn(self,inputs):\n",
    "        self.logger.warning(self.output(inputs))\n",
    "\n",
    "    def error(self,inputs):\n",
    "        self.logger.error(self.output(inputs))\n",
    "\n",
    "    def root(self,inputs):\n",
    "        self.logger.critical(self.output(inputs))"
   ]
  },
  {
   "cell_type": "code",
   "execution_count": 3,
   "metadata": {},
   "outputs": [
    {
     "name": "stderr",
     "output_type": "stream",
     "text": [
      "[2023/02/23-01:56:24 ->> /home/hikari/work/tools/utils/test.log] <this is warn level>\n",
      "[2023/02/23-01:56:24 ->> /home/hikari/work/tools/utils/test.log] <this is info level>\n",
      "[2023/02/23-01:56:24 ->> /home/hikari/work/tools/utils/test.log] <this is warn level>\n",
      "[2023/02/23-01:56:24 ->> /home/hikari/work/tools/utils/test.log] <this is error level>\n",
      "[2023/02/23-01:56:24 ->> /home/hikari/work/tools/utils/test.log] <this is root level>\n"
     ]
    }
   ],
   "source": [
    "if __name__ == '__main__':\n",
    "    log = Logger(filename=\"test.log\",name=\"test\")\n",
    "    log.debug(\"this is warn level\")\n",
    "    log.info(\"this is info level\")\n",
    "    log.warn(\"this is warn level\")\n",
    "    log.error(\"this is error level\")\n",
    "    log.root(\"this is root level\")\n"
   ]
  }
 ],
 "metadata": {
  "kernelspec": {
   "display_name": "base",
   "language": "python",
   "name": "python3"
  },
  "language_info": {
   "codemirror_mode": {
    "name": "ipython",
    "version": 3
   },
   "file_extension": ".py",
   "mimetype": "text/x-python",
   "name": "python",
   "nbconvert_exporter": "python",
   "pygments_lexer": "ipython3",
   "version": "3.9.13"
  },
  "orig_nbformat": 4,
  "vscode": {
   "interpreter": {
    "hash": "0a9f78bbd9945577273209704ae5cfeda6441623d00fcb3735ad464d32c6f595"
   }
  }
 },
 "nbformat": 4,
 "nbformat_minor": 2
}
